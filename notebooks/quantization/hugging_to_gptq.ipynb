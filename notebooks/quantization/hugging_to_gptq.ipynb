{
 "cells": [
  {
   "cell_type": "markdown",
   "id": "2dc094eb-85ab-4a88-a9c2-19a3379ad73d",
   "metadata": {},
   "source": [
    "## Evangelista – Hugging Models Quantization - GPTQ  (see also AWQ, GUFF/GGML, SqueezeLLM)\n",
    "- GPTQ: Accurate Post-Training Quantization for Generative Pre-trained Transformers.\n",
    "  - Paper: https://arxiv.org/abs/2210.17323\n",
    "  - Git: https://github.com/IST-DASLab/gptq"
   ]
  },
  {
   "cell_type": "code",
   "execution_count": null,
   "id": "691b9bfc-a06d-4610-8d4e-c2b930adef17",
   "metadata": {},
   "outputs": [],
   "source": [
    "# Optional, Show Machine/Pod Info\n",
    "!uname -a\n",
    "!python --version && echo\n",
    "!pip list | grep -E 'torch|auto' && echo\n",
    "!lscpu | head -n 8 && echo\n",
    "!nvidia-smi | grep -E 'NVIDIA|MiB'"
   ]
  },
  {
   "cell_type": "markdown",
   "id": "bd86331a-fd64-4498-9c3a-2d7de0f3467e",
   "metadata": {},
   "source": [
    "### Install GPTQ"
   ]
  },
  {
   "cell_type": "code",
   "execution_count": null,
   "id": "fbcbe656-2c83-41e9-bda2-13c08dc01c3d",
   "metadata": {},
   "outputs": [],
   "source": [
    "%env PIP_ROOT_USER_ACTION=ignore\n",
    "!pip install -q --upgrade pip\n",
    "\n",
    "# GPTQ with CUDA requires torch >= 2.2.0\n",
    "!pip install -q --upgrade \"torch==2.2.0+cu118\" -f https://download.pytorch.org/whl/torch_stable.html\n",
    "!pip uninstall -q torchaudio torchvision -y\n",
    "\n",
    "!pip install -q --upgrade accelerate optimum transformers\n",
    "\n",
    "!pip install -q --upgrade auto-gptq --extra-index-url https://huggingface.github.io/autogptq-index/whl/cu118/\n",
    "#!pip install -q --upgrade auto-gptq[triton] --extra-index-url https://huggingface.github.io/autogptq-index/whl/cu118/\n",
    "\n",
    "print('Done!\\n')"
   ]
  },
  {
   "cell_type": "markdown",
   "id": "69fb9bef-706f-424c-8d08-84dc3ab3bf9e",
   "metadata": {},
   "source": [
    "### Log into HuggingFace - Needed To Upload Your Quantization OR If The Input Model Is Gated"
   ]
  },
  {
   "cell_type": "code",
   "execution_count": null,
   "id": "7299dc5d-5646-425f-b01c-930df48419ae",
   "metadata": {
    "scrolled": true
   },
   "outputs": [],
   "source": [
    "# Use env variable token if defined, don't restart sessions\n",
    "import huggingface_hub, os\n",
    "huggingface_hub.login(token=os.getenv('HF_ACCESS_TOKEN'), new_session=False, add_to_git_credential=False)\n",
    "\n",
    "# Optionally, Force re-login\n",
    "#huggingface_hub.login(None, new_session=True, add_to_git_credential=False)"
   ]
  },
  {
   "cell_type": "markdown",
   "id": "da2083c4-8141-45d5-8ec7-54ceaa8ece1c",
   "metadata": {},
   "source": [
    "### Load Your Desired Model"
   ]
  },
  {
   "cell_type": "code",
   "execution_count": null,
   "id": "83673239-d042-46c9-bc29-42dfbe047826",
   "metadata": {},
   "outputs": [],
   "source": [
    "# ENTER YOUR MODEL URI BELOW\n",
    "# --------------------------------------------------------------------------------\n",
    "%env HF_MODEL_URI = meta-llama/Llama-2-7b-chat-hf\n",
    "\n",
    "import os, torch\n",
    "from transformers import AutoTokenizer, AutoModelForCausalLM\n",
    "\n",
    "torch.cuda.empty_cache()\n",
    "#torch.set_default_device('cuda:0')                     # Using cuda as default doesn't work with GPTQQuantizer\n",
    "#torch.set_default_dtype(torch.float16)\n",
    "\n",
    "HF_MODEL_URI = os.environ.get('HF_MODEL_URI')\n",
    "MODEL_NAME = os.path.basename(HF_MODEL_URI)\n",
    "\n",
    "tokenizer = AutoTokenizer.from_pretrained(\n",
    "    HF_MODEL_URI,\n",
    "    trust_remote_code=True,\n",
    ")\n",
    "tokenizer.pad_token = tokenizer.eos_token\n",
    "\n",
    "model = AutoModelForCausalLM.from_pretrained(\n",
    "    HF_MODEL_URI,\n",
    "    torch_dtype=torch.float16,\n",
    "    trust_remote_code=True,\n",
    "    device_map='auto',\n",
    ")"
   ]
  },
  {
   "cell_type": "markdown",
   "id": "ce4b6092-b45b-4082-b7cc-67780ba5dd89",
   "metadata": {},
   "source": [
    "### Quantize to 4b & Save\n",
    "- HF Reference: https://huggingface.co/docs/transformers/en/quantization"
   ]
  },
  {
   "cell_type": "code",
   "execution_count": null,
   "id": "43d5baef-a406-430f-9d95-6bb990dca74c",
   "metadata": {},
   "outputs": [],
   "source": [
    "from optimum.gptq import GPTQQuantizer\n",
    "\n",
    "quantizer = GPTQQuantizer(\n",
    "    use_cuda_fp16=True,                                 # Optimized kernel for fp16 (requires pytorch >=2.1)\n",
    "    group_size=128,                                     # Num Parameters Sharing a Scaling Weight\n",
    "    bits=4,                                             # Bits Per Parameter \n",
    "    dataset='c4',                                       # The dataset to use for quantization\n",
    "    desc_act=False,                                     # Quantize columns to decrease activation size. False will speed up inference but increase perplexity\n",
    "    model_seqlen=2048,                                  # Maximum sequence length the model can handle\n",
    ")\n",
    "\n",
    "# Note, this may take a few hours\n",
    "quantized_model = quantizer.quantize_model(model, tokenizer)\n",
    "\n",
    "print('Saving model...')\n",
    "QUANTIZED_MODEL_NAME=f'{MODEL_NAME}-GPTQ-Q{quantizer.group_size}_B{quantizer.bits}_{quantizer.dataset}'\n",
    "quantizer.save(quantized_model, QUANTIZED_MODEL_NAME)\n",
    "print('Done!')"
   ]
  },
  {
   "cell_type": "markdown",
   "id": "71dedde2-05cc-4711-a345-192271abb421",
   "metadata": {},
   "source": [
    "### Create HuggingFace Repo & Upload Model"
   ]
  },
  {
   "cell_type": "code",
   "execution_count": null,
   "id": "5fcdfd44-d65f-4649-9c82-e293203912ea",
   "metadata": {},
   "outputs": [],
   "source": [
    "from huggingface_hub import create_repo, HfApi\n",
    "\n",
    "# ENTER YOUR HUGGINGFACE USER ID BELOW\n",
    "# --------------------------------------------------------------------------------\n",
    "HF_USER_ID='bevangelista'\n",
    "REPO_ID=f'{HF_USER_ID}/{QUANTIZED_MODEL_NAME}'\n",
    "\n",
    "# Create Repo -- NOTE: Make sure your token has WRITE permission\n",
    "try:\n",
    "    create_repo(REPO_ID, repo_type='model', private=False)\n",
    "except Exception as err:\n",
    "    print(err)\n",
    "\n",
    "# Upload all files\n",
    "api = HfApi()\n",
    "api.upload_folder(\n",
    "    repo_id=REPO_ID,\n",
    "    folder_path=QUANTIZED_MODEL_NAME,\n",
    "    path_in_repo='/',\n",
    "    allow_patterns=['*.bin', '*.safetensors', '*.json'],\n",
    "    commit_message='Upload quantized models'\n",
    ")"
   ]
  },
  {
   "cell_type": "markdown",
   "id": "f3f9a46454660136",
   "metadata": {
    "collapsed": false
   },
   "source": [
    "### Load and Use Quantized Model"
   ]
  },
  {
   "cell_type": "code",
   "execution_count": null,
   "id": "3fa8b82149630122",
   "metadata": {
    "collapsed": false
   },
   "outputs": [],
   "source": [
    "from auto_gptq import AutoGPTQForCausalLM, BaseQuantizeConfig\n",
    "\n",
    "torch.set_default_device('cuda:0')\n",
    "torch.set_default_dtype(torch.float16)\n",
    "\n",
    "model = AutoGPTQForCausalLM.from_quantized(\n",
    "    QUANTIZED_MODEL_NAME,\n",
    "    use_marlin=True,                                    # Optimized 4b kernels, may need weight repack\n",
    "    use_safetensors=True,\n",
    ")"
   ]
  },
  {
   "cell_type": "code",
   "execution_count": null,
   "id": "dd521c00-c98e-4f01-86c2-f6e7627a8eeb",
   "metadata": {},
   "outputs": [],
   "source": [
    "input_ids = tokenizer('Apples are?', return_tensors='pt').input_ids\n",
    "outputs = model.generate(\n",
    "    input_ids=input_ids,\n",
    "    do_sample=True,\n",
    ")\n",
    "print(tokenizer.decode(outputs)[0])"
   ]
  },
  {
   "cell_type": "markdown",
   "id": "b1ca1687f7a0d93f",
   "metadata": {
    "collapsed": false
   },
   "source": [
    "### Is It Possible To Fine Tune Quantized Model?\n",
    "\n",
    "Yes, with adapters."
   ]
  }
 ],
 "metadata": {
  "kernelspec": {
   "display_name": "Python 3 (ipykernel)",
   "language": "python",
   "name": "python3"
  },
  "language_info": {
   "codemirror_mode": {
    "name": "ipython",
    "version": 3
   },
   "file_extension": ".py",
   "mimetype": "text/x-python",
   "name": "python",
   "nbconvert_exporter": "python",
   "pygments_lexer": "ipython3",
   "version": "3.10.12"
  }
 },
 "nbformat": 4,
 "nbformat_minor": 5
}
