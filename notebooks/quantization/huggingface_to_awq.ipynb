{
 "cells": [
  {
   "cell_type": "markdown",
   "id": "2dc094eb-85ab-4a88-a9c2-19a3379ad73d",
   "metadata": {},
   "source": [
    "## Evangelista – Hugging Models Quantization - AWQ  (see also GUFF/GGML, SqueezeLLM)\n",
    "- AWQ.\n",
    "  - Paper: https://arxiv.org/abs/2306.00978\n",
    "  - Git: https://github.com/mit-han-lab/llm-awq"
   ]
  },
  {
   "cell_type": "code",
   "execution_count": null,
   "id": "691b9bfc-a06d-4610-8d4e-c2b930adef17",
   "metadata": {},
   "outputs": [],
   "source": [
    "# Optional, Show Machine/Pod Info\n",
    "!uname -a\n",
    "!python --version && echo\n",
    "!lscpu | head -n 8 && echo\n",
    "!nvidia-smi | grep -E 'NVIDIA|MiB'"
   ]
  },
  {
   "cell_type": "markdown",
   "id": "bd86331a-fd64-4498-9c3a-2d7de0f3467e",
   "metadata": {},
   "source": [
    "### Install AWQ"
   ]
  },
  {
   "cell_type": "code",
   "execution_count": null,
   "id": "fbcbe656-2c83-41e9-bda2-13c08dc01c3d",
   "metadata": {},
   "outputs": [],
   "source": [
    "%env PIP_ROOT_USER_ACTION=ignore\n",
    "!pip install -q --upgrade pip\n",
    "!pip install -q accelerate transformers\n",
    "\n",
    "!pip install -q -U autoawq -f https://github.com/casper-hansen/AutoAWQ/releases/download/v0.1.8/autoawq-0.1.8+cu118-cp310-cp310-linux_x86_64.whl\n",
    "#!pip install -q -U autoawq -f https://github.com/casper-hansen/AutoAWQ/releases/download/v0.1.8/autoawq-0.1.8+cu118-cp310-cp310-win_amd64.whl\n",
    "\n",
    "print('Done!\\n')"
   ]
  },
  {
   "cell_type": "markdown",
   "id": "69fb9bef-706f-424c-8d08-84dc3ab3bf9e",
   "metadata": {},
   "source": [
    "### Log into HuggingFace - Needed To Upload Your Quantization OR If The Input Model Is Gated"
   ]
  },
  {
   "cell_type": "code",
   "execution_count": null,
   "id": "7299dc5d-5646-425f-b01c-930df48419ae",
   "metadata": {
    "scrolled": true
   },
   "outputs": [],
   "source": [
    "# Use env variable token if defined, don't restart sessions\n",
    "import huggingface_hub, os\n",
    "huggingface_hub.login(token=os.getenv('HF_ACCESS_TOKEN'), new_session=False, add_to_git_credential=False)\n",
    "\n",
    "# Optionally, Force re-login\n",
    "#huggingface_hub.login(None, new_session=True, add_to_git_credential=False)"
   ]
  },
  {
   "cell_type": "markdown",
   "id": "da2083c4-8141-45d5-8ec7-54ceaa8ece1c",
   "metadata": {},
   "source": [
    "### Load and Save Your Desired Model"
   ]
  },
  {
   "cell_type": "code",
   "execution_count": null,
   "id": "83673239-d042-46c9-bc29-42dfbe047826",
   "metadata": {},
   "outputs": [],
   "source": [
    "# YOUR MODEL URI BELOW\n",
    "# --------------------------------------------------------------------------------\n",
    "%env HF_MODEL_URI = meta-llama/Llama-2-7b-chat-hf\n",
    "\n",
    "import os, torch\n",
    "from awq import AutoAWQForCausalLM\n",
    "from transformers import AutoTokenizer\n",
    "\n",
    "# Default CUDA and float16\n",
    "torch.cuda.empty_cache()\n",
    "torch.set_default_device('cuda')\n",
    "torch.set_default_dtype(torch.float16)\n",
    "\n",
    "HF_MODEL_URI = os.environ.get('HF_MODEL_URI')\n",
    "MODEL_NAME = os.path.basename(HF_MODEL_URI)\n",
    "\n",
    "tokenizer = AutoTokenizer.from_pretrained(\n",
    "    HF_MODEL_URI,\n",
    "    trust_remote_code=True,\n",
    ")\n",
    "\n",
    "model = AutoAWQForCausalLM.from_pretrained( # Use AutoAWQForCausalLM instead of AutoModelForCausalLM\n",
    "    HF_MODEL_URI,\n",
    "    torch_dtype=torch.float16,\n",
    "    trust_remote_code=True,\n",
    ")"
   ]
  },
  {
   "cell_type": "markdown",
   "id": "ce4b6092-b45b-4082-b7cc-67780ba5dd89",
   "metadata": {},
   "source": [
    "### Quantize Model to 4b\n",
    "- HF Reference: https://huggingface.co/docs/transformers/en/quantization"
   ]
  },
  {
   "cell_type": "code",
   "execution_count": null,
   "id": "43d5baef-a406-430f-9d95-6bb990dca74c",
   "metadata": {},
   "outputs": [],
   "source": [
    "awq_config = {\n",
    "    'zero_point': True, \n",
    "    'q_group_size': 128,\n",
    "    'w_bit': 4,\n",
    "    'version': 'GEMM', # GEMV: 20% faster than GEMM (only batch size 1). GEMM: Much faster than FP16 at batch sizes below 8.\n",
    "}\n",
    "\n",
    "QUANTIZED_MODEL_NAME=f\"{MODEL_NAME}-AWK-Q{awq_config['q_group_size']}_B{awq_config['w_bit']}\"\n",
    "model.quantize(tokenizer, quant_config=awq_config)\n",
    "\n",
    "model.save_quantized(QUANTIZED_MODEL_NAME, safetensors=True)"
   ]
  },
  {
   "cell_type": "markdown",
   "id": "71dedde2-05cc-4711-a345-192271abb421",
   "metadata": {},
   "source": [
    "### Create HuggingFace Repo & Upload Model"
   ]
  },
  {
   "cell_type": "code",
   "execution_count": null,
   "id": "5fcdfd44-d65f-4649-9c82-e293203912ea",
   "metadata": {},
   "outputs": [],
   "source": [
    "from huggingface_hub import create_repo, HfApi\n",
    "\n",
    "# YOUR HUGGINGFACE USER ID BELOW\n",
    "# --------------------------------------------------------------------------------\n",
    "HF_USER_ID='soij'\n",
    "REPO_ID=f'{HF_USER_ID}/{QUANTIZED_MODEL_NAME}'\n",
    "\n",
    "# Create Repo -- NOTE: Make sure your token has WRITE permission\n",
    "try:\n",
    "    create_repo(REPO_ID, repo_type='model', private=False)\n",
    "except Exception as err:\n",
    "    print(err)\n",
    "\n",
    "# Upload all files\n",
    "api = HfApi()\n",
    "api.upload_folder(\n",
    "    repo_id=REPO_ID,\n",
    "    folder_path=QUANTIZED_MODEL_NAME,\n",
    "    path_in_repo='/',\n",
    "    allow_patterns=['*.bin', '*.safetensors', '*.json'],\n",
    "    commit_message='Upload quantized models'\n",
    ")"
   ]
  },
  {
   "cell_type": "code",
   "execution_count": null,
   "id": "992677b1-50cc-467e-9e15-ba31e0b9b886",
   "metadata": {},
   "outputs": [],
   "source": []
  }
 ],
 "metadata": {
  "kernelspec": {
   "display_name": "Python 3 (ipykernel)",
   "language": "python",
   "name": "python3"
  },
  "language_info": {
   "codemirror_mode": {
    "name": "ipython",
    "version": 3
   },
   "file_extension": ".py",
   "mimetype": "text/x-python",
   "name": "python",
   "nbconvert_exporter": "python",
   "pygments_lexer": "ipython3",
   "version": "3.10.12"
  }
 },
 "nbformat": 4,
 "nbformat_minor": 5
}
